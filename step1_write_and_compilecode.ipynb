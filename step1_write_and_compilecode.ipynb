{
 "cells": [
  {
   "cell_type": "markdown",
   "metadata": {},
   "source": [
    "Compile code for analysing allosteric model with 6 sites and 4 conformations. This requires:\n",
    "\n",
    "Eigen. \n",
    "\n",
    "GeneRegulatoryFunctions repository: https://github.com/rosamc/GeneRegulatoryFunctions\n",
    "\n",
    "Polynomial solving routines in repository https://github.com/kmnam/polynomials, commit 8c8a8b5c7e57bfb98b3ea5a155039a25c2ecb43.\n"
   ]
  },
  {
   "cell_type": "code",
   "execution_count": 8,
   "metadata": {},
   "outputs": [
    {
     "name": "stdout",
     "output_type": "stream",
     "text": [
      "/Users/rosamartinezcorral/Dropbox (HMS)/work2/TFbinding_CG/allosterypaper\r\n"
     ]
    }
   ],
   "source": [
    "!pwd"
   ]
  },
  {
   "cell_type": "code",
   "execution_count": 1,
   "metadata": {},
   "outputs": [],
   "source": [
    "import sys,os\n",
    "sys.path.append('../../../work2/shared/utilsGRF') #path to utilsGRF in \n",
    "import writescripts\n",
    "import numpy as np"
   ]
  },
  {
   "cell_type": "code",
   "execution_count": 2,
   "metadata": {},
   "outputs": [],
   "source": [
    "path_to_eigen=\"/Users/rosamartinezcorral/Documents/eigenlibrary/eigen-eigen-323c052e1731/\"\n",
    "path_to_polynomials=\"\\\"/Users/rosamartinezcorral/Dropbox (HMS)/work2/shared_fromothers/polynomials/include/polynomial/\\\"\"\n",
    "path_to_utilsGRF=\"\\\"/Users/rosamartinezcorral/Dropbox (HMS)/work2/shared/utilsGRF\\\"\" #GeneRegulatoryFunctions repo\n"
   ]
  },
  {
   "cell_type": "code",
   "execution_count": 3,
   "metadata": {},
   "outputs": [
    {
     "name": "stdout",
     "output_type": "stream",
     "text": [
      "['K1', 'K2', 'K3', 'K4', 'K5', 'K6', 'w12', 'w13', 'w14', 'w15', 'w16', 'w23', 'w24', 'w25', 'w26', 'w34', 'w35', 'w36', 'w45', 'w46', 'w56', 'w123', 'w124', 'w125', 'w126', 'w134', 'w135', 'w136', 'w145', 'w146', 'w156', 'w234', 'w235', 'w236', 'w245', 'w246', 'w256', 'w345', 'w346', 'w356', 'w456', 'w1234', 'w1235', 'w1236', 'w1245', 'w1246', 'w1256', 'w1345', 'w1346', 'w1356', 'w1456', 'w2345', 'w2346', 'w2356', 'w2456', 'w3456', 'w12345', 'w12346', 'w12356', 'w12456', 'w13456', 'w23456', 'w123456']\n",
      "parlist is ['K1', 'K2', 'K3', 'K4', 'K5', 'K6', 'w12', 'w13', 'w14', 'w15', 'w16', 'w23', 'w24', 'w25', 'w26', 'w34', 'w35', 'w36', 'w45', 'w46', 'w56', 'w123', 'w124', 'w125', 'w126', 'w134', 'w135', 'w136', 'w145', 'w146', 'w156', 'w234', 'w235', 'w236', 'w245', 'w246', 'w256', 'w345', 'w346', 'w356', 'w456', 'w1234', 'w1235', 'w1236', 'w1245', 'w1246', 'w1256', 'w1345', 'w1346', 'w1356', 'w1456', 'w2345', 'w2346', 'w2356', 'w2456', 'w3456', 'w12345', 'w12346', 'w12356', 'w12456', 'w13456', 'w23456', 'w123456']\n",
      "GRF numerator:(1.0/6)*(rho2)+(1.0/6)*(rho3)+(1.0/6)*(rho4)+(1.0/6)*(rho5)+(1.0/6)*(rho6)+(1.0/6)*(rho7)+(2.0/6)*(rho8)+(2.0/6)*(rho9)+(2.0/6)*(rho10)+(2.0/6)*(rho11)+(2.0/6)*(rho12)+(2.0/6)*(rho13)+(2.0/6)*(rho14)+(2.0/6)*(rho15)+(2.0/6)*(rho16)+(2.0/6)*(rho17)+(2.0/6)*(rho18)+(2.0/6)*(rho19)+(2.0/6)*(rho20)+(2.0/6)*(rho21)+(2.0/6)*(rho22)+(3.0/6)*(rho23)+(3.0/6)*(rho24)+(3.0/6)*(rho25)+(3.0/6)*(rho26)+(3.0/6)*(rho27)+(3.0/6)*(rho28)+(3.0/6)*(rho29)+(3.0/6)*(rho30)+(3.0/6)*(rho31)+(3.0/6)*(rho32)+(3.0/6)*(rho33)+(3.0/6)*(rho34)+(3.0/6)*(rho35)+(3.0/6)*(rho36)+(3.0/6)*(rho37)+(3.0/6)*(rho38)+(3.0/6)*(rho39)+(3.0/6)*(rho40)+(3.0/6)*(rho41)+(3.0/6)*(rho42)+(4.0/6)*(rho43)+(4.0/6)*(rho44)+(4.0/6)*(rho45)+(4.0/6)*(rho46)+(4.0/6)*(rho47)+(4.0/6)*(rho48)+(4.0/6)*(rho49)+(4.0/6)*(rho50)+(4.0/6)*(rho51)+(4.0/6)*(rho52)+(4.0/6)*(rho53)+(4.0/6)*(rho54)+(4.0/6)*(rho55)+(4.0/6)*(rho56)+(4.0/6)*(rho57)+(5.0/6)*(rho58)+(5.0/6)*(rho59)+(5.0/6)*(rho60)+(5.0/6)*(rho61)+(5.0/6)*(rho62)+(5.0/6)*(rho63)+(6.0/6)*(rho64)\n",
      "GRF denominator:1*(rho1+rho2+rho3+rho4+rho5+rho6+rho7+rho8+rho9+rho10+rho11+rho12+rho13+rho14+rho15+rho16+rho17+rho18+rho19+rho20+rho21+rho22+rho23+rho24+rho25+rho26+rho27+rho28+rho29+rho30+rho31+rho32+rho33+rho34+rho35+rho36+rho37+rho38+rho39+rho40+rho41+rho42+rho43+rho44+rho45+rho46+rho47+rho48+rho49+rho50+rho51+rho52+rho53+rho54+rho55+rho56+rho57+rho58+rho59+rho60+rho61+rho62+rho63+rho64)\n",
      "0\n",
      "1\n",
      "writing mathematica file. max1 set to True\n",
      "K1_,K2_,K3_,K4_,K5_,K6_,w12_,w13_,w14_,w15_,w16_,w23_,w24_,w25_,w26_,w34_,w35_,w36_,w45_,w46_,w56_,w123_,w124_,w125_,w126_,w134_,w135_,w136_,w145_,w146_,w156_,w234_,w235_,w236_,w245_,w246_,w256_,w345_,w346_,w356_,w456_,w1234_,w1235_,w1236_,w1245_,w1246_,w1256_,w1345_,w1346_,w1356_,w1456_,w2345_,w2346_,w2356_,w2456_,w3456_,w12345_,w12346_,w12356_,w12456_,w13456_,w23456_,w123456_,\n",
      "writing mathematica file. max1 set to True\n",
      "K1_,K2_,K3_,K4_,K5_,K6_,w12_,w13_,w14_,w15_,w16_,w23_,w24_,w25_,w26_,w34_,w35_,w36_,w45_,w46_,w56_,w123_,w124_,w125_,w126_,w134_,w135_,w136_,w145_,w146_,w156_,w234_,w235_,w236_,w245_,w246_,w256_,w345_,w346_,w356_,w456_,w1234_,w1235_,w1236_,w1245_,w1246_,w1256_,w1345_,w1346_,w1356_,w1456_,w2345_,w2346_,w2356_,w2456_,w3456_,w12345_,w12346_,w12356_,w12456_,w13456_,w23456_,w123456_,\n"
     ]
    }
   ],
   "source": [
    "#write files\n",
    "intrinsiccoop=False #whether there is binding cooperativity at a given conformation\n",
    "samesites=False #whether all sites in a conformation are the same\n",
    "N=6\n",
    "c=4\n",
    "       \n",
    "folder=\"./bin\"\n",
    "if not os.path.isdir(folder):\n",
    "    os.mkdir(folder)\n",
    "basename='CG_c%d_N%d_samesites%s'%(c,N,str(samesites))\n",
    "fname=os.path.join(folder,'%s.cpp'%basename) #\n",
    "typestring='long double' \n",
    "funcname='GRF_%s'%basename\n",
    "\n",
    "write=True\n",
    "if write:\n",
    "    obj=writescripts.PrepareFilesEqbindingmodels_CG(varGRF='x',concvars=['x'],N=N,c=c,intrinsiccoop=intrinsiccoop,strategy='av',samesites=samesites)\n",
    "    obj.get_rhos_and_GRFs()\n",
    "\n",
    "\n",
    "    obj.write_pybind_interface(fname=fname, funcname=funcname, typestring=typestring)\n",
    "    obj.write_checkfile_mathematica_singlevar(fname=fname.replace('.cpp','.wl')) #mathematica code to double check results\n",
    "    obj.write_checksingleparset_mathematica_singlevar(fname=fname.replace('.cpp','.nb'))"
   ]
  },
  {
   "cell_type": "code",
   "execution_count": 4,
   "metadata": {},
   "outputs": [
    {
     "name": "stdout",
     "output_type": "stream",
     "text": [
      "./bin/CG_c4_N6_samesitesFalse.cpp\n",
      "c++ -O2 -DNDEBUG -Wall -shared -std=c++11  -fPIC -undefined dynamic_lookup -I /Users/rosamartinezcorral/Documents/eigenlibrary/eigen-eigen-323c052e1731/ -I \"/Users/rosamartinezcorral/Dropbox (HMS)/work2/shared_fromothers/polynomials/include/polynomial/\" -lmpfr -lmpc -I \"/Users/rosamartinezcorral/Dropbox (HMS)/work2/shared/utilsGRF\"  `python3 -m pybind11 --includes` ./bin/CG_c4_N6_samesitesFalse.cpp -o ./bin/CG_c4_N6_samesitesFalse`python3-config --extension-suffix`\n",
      "In file included from ./bin/CG_c4_N6_samesitesFalse.cpp:12:\n",
      "\u001b[1m/Users/rosamartinezcorral/Dropbox (HMS)/work2/shared/utilsGRF/posstpfunc_cpp_longdouble.h:52:12: \u001b[0m\u001b[0;1;35mwarning: \u001b[0m\u001b[1m\n",
      "      unused variable 'root' [-Wunused-variable]\u001b[0m\n",
      "    double root;\n",
      "\u001b[0;1;32m           ^\n",
      "\u001b[0m\u001b[1m/Users/rosamartinezcorral/Dropbox (HMS)/work2/shared/utilsGRF/posstpfunc_cpp_longdouble.h:102:43: \u001b[0m\u001b[0;1;35mwarning: \u001b[0m\u001b[1m\n",
      "      unused variable 'j' [-Wunused-variable]\u001b[0m\n",
      "    std::vector<long double>::size_type i,j, Nrows, lastidx;\n",
      "\u001b[0;1;32m                                          ^\n",
      "\u001b[0m\u001b[1m/Users/rosamartinezcorral/Dropbox (HMS)/work2/shared/utilsGRF/posstpfunc_cpp_longdouble.h:211:89: \u001b[0m\u001b[0;1;35mwarning: \u001b[0m\u001b[1m\n",
      "      unused variable 'j' [-Wunused-variable]\u001b[0m\n",
      "  ...double>::size_type nnum, nden, degreenum, degreeden, degreesum, i, j;\n",
      "\u001b[0;1;32m                                                                        ^\n",
      "\u001b[0m\u001b[1m/Users/rosamartinezcorral/Dropbox (HMS)/work2/shared/utilsGRF/posstpfunc_cpp_longdouble.h:440:34: \u001b[0m\u001b[0;1;35mwarning: \u001b[0m\u001b[1m\n",
      "      format specifies type 'int' but the argument has type\n",
      "      'std::__1::vector<long double, std::__1::allocator<long double>\n",
      "      >::size_type' (aka 'unsigned long') [-Wformat]\u001b[0m\n",
      "        printf(\"num %d, den %d\", derivative2num.size(),derivative2den.size());\n",
      "\u001b[0;1;32m                    ~~           ^~~~~~~~~~~~~~~~~~~~~\n",
      "\u001b[0m\u001b[0;32m                    %lu\n",
      "\u001b[0m\u001b[1m/Users/rosamartinezcorral/Dropbox (HMS)/work2/shared/utilsGRF/posstpfunc_cpp_longdouble.h:440:56: \u001b[0m\u001b[0;1;35mwarning: \u001b[0m\u001b[1m\n",
      "      format specifies type 'int' but the argument has type\n",
      "      'std::__1::vector<long double, std::__1::allocator<long double>\n",
      "      >::size_type' (aka 'unsigned long') [-Wformat]\u001b[0m\n",
      "        printf(\"num %d, den %d\", derivative2num.size(),derivative2den.size());\n",
      "\u001b[0;1;32m                            ~~                         ^~~~~~~~~~~~~~~~~~~~~\n",
      "\u001b[0m\u001b[0;32m                            %lu\n",
      "\u001b[0m\u001b[1m/Users/rosamartinezcorral/Dropbox (HMS)/work2/shared/utilsGRF/posstpfunc_cpp_longdouble.h:520:21: \u001b[0m\u001b[0;1;35mwarning: \u001b[0m\u001b[1m\n",
      "      unused variable 'mincritpoint' [-Wunused-variable]\u001b[0m\n",
      "        long double mincritpoint;\n",
      "\u001b[0;1;32m                    ^\n",
      "\u001b[0m\u001b[1m/Users/rosamartinezcorral/Dropbox (HMS)/work2/shared/utilsGRF/posstpfunc_cpp_longdouble.h:521:32: \u001b[0m\u001b[0;1;35mwarning: \u001b[0m\u001b[1m\n",
      "      unused variable 'thirdderx0' [-Wunused-variable]\u001b[0m\n",
      "        long double thirdderx, thirdderx0;\n",
      "\u001b[0;1;32m                               ^\n",
      "\u001b[0m\u001b[1m/Users/rosamartinezcorral/Dropbox (HMS)/work2/shared/utilsGRF/posstpfunc_cpp_longdouble.h:371:12: \u001b[0m\u001b[0;1;35mwarning: \u001b[0m\u001b[1m\n",
      "      unused variable 'x05double' [-Wunused-variable]\u001b[0m\n",
      "    double x05double = (double) x05;\n",
      "\u001b[0;1;32m           ^\n",
      "\u001b[0m\u001b[1m/Users/rosamartinezcorral/Dropbox (HMS)/work2/shared/utilsGRF/posstpfunc_cpp_longdouble.h:635:44: \u001b[0m\u001b[0;1;35mwarning: \u001b[0m\u001b[1m\n",
      "      unused variable 'j' [-Wunused-variable]\u001b[0m\n",
      "    std::vector<long double>::size_type i, j, nnum, nden;\n",
      "\u001b[0;1;32m                                           ^\n",
      "\u001b[0m\u001b[1m/Users/rosamartinezcorral/Dropbox (HMS)/work2/shared/utilsGRF/posstpfunc_cpp_longdouble.h:637:17: \u001b[0m\u001b[0;1;35mwarning: \u001b[0m\u001b[1m\n",
      "      unused variable 'i2' [-Wunused-variable]\u001b[0m\n",
      "    long double i2;\n",
      "\u001b[0;1;32m                ^\n",
      "\u001b[0m\u001b[1m/Users/rosamartinezcorral/Dropbox (HMS)/work2/shared/utilsGRF/posstpfunc_cpp_longdouble.h:636:17: \u001b[0m\u001b[0;1;35mwarning: \u001b[0m\u001b[1m\n",
      "      unused variable 'i1' [-Wunused-variable]\u001b[0m\n",
      "    long double i1;\n",
      "\u001b[0;1;32m                ^\n",
      "\u001b[0m11 warnings generated.\n"
     ]
    }
   ],
   "source": [
    "#compile code. Make sure the paths to eigen, polynomials and utilsGRF folders is correct\n",
    "\n",
    "basename='CG_c%d_N%d_samesites%s'%(c,N,str(samesites))\n",
    "fname=os.path.join(folder,'%s.cpp'%basename) #\n",
    "filename=fname\n",
    "objectnamemac=filename.replace(\".cpp\",\"\")\n",
    "print(filename)\n",
    "\n",
    "compilestringmac=\"c++ -O2 -DNDEBUG -Wall -shared -std=c++11  -fPIC -undefined dynamic_lookup -I %s -I %s -lmpfr -lmpc -I %s  `python3 -m pybind11 --includes` %s -o %s`python3-config --extension-suffix`\"%(path_to_eigen,path_to_polynomials,path_to_utilsGRF,filename,objectnamemac)\n",
    "compilestring=compilestringmac\n",
    "print(compilestring)\n",
    "!$compilestring"
   ]
  },
  {
   "cell_type": "code",
   "execution_count": null,
   "metadata": {},
   "outputs": [],
   "source": []
  }
 ],
 "metadata": {
  "kernelspec": {
   "display_name": "Python 3",
   "language": "python",
   "name": "python3"
  },
  "language_info": {
   "codemirror_mode": {
    "name": "ipython",
    "version": 3
   },
   "file_extension": ".py",
   "mimetype": "text/x-python",
   "name": "python",
   "nbconvert_exporter": "python",
   "pygments_lexer": "ipython3",
   "version": "3.7.3"
  }
 },
 "nbformat": 4,
 "nbformat_minor": 2
}
