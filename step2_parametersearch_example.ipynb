{
 "cells": [
  {
   "cell_type": "markdown",
   "metadata": {},
   "source": [
    "Here I am showing a couple of examples for two parameter searches, starting with the seeds that gave the results in the paper figure. \n"
   ]
  },
  {
   "cell_type": "code",
   "execution_count": 1,
   "metadata": {},
   "outputs": [],
   "source": [
    "import utils_matchHill_repo as utils_matchHill\n",
    "import sys, os\n",
    "sys.path.append(\"./bin\")\n",
    "import CG_c4_N6_samesitesFalse\n",
    "import matplotlib.gridspec as gridspec\n",
    "import numpy as np"
   ]
  },
  {
   "cell_type": "code",
   "execution_count": 2,
   "metadata": {},
   "outputs": [],
   "source": [
    "plim=4\n",
    "plimc=6\n",
    "c=4\n",
    "\n",
    "psfunc=CG_c4_N6_samesitesFalse.interfaceps_a_GRF_CG_c4_N6_samesitesFalse_x\n",
    "GRFfunc=CG_c4_N6_samesitesFalse.interface_GRF_CG_c4_N6_samesitesFalse_x\n",
    "npars=27\n",
    "idx_c=24\n",
    "\n",
    "#plimc=8\n",
    "min_p=1*10**(-plim)\n",
    "max_p=1*10**(plim)\n",
    "min_pc=1*10**(-plimc)\n",
    "max_pc=1*10**(plimc)\n",
    "\n",
    "nmax=5000000"
   ]
  },
  {
   "cell_type": "code",
   "execution_count": 3,
   "metadata": {},
   "outputs": [
    {
     "name": "stdout",
     "output_type": "stream",
     "text": [
      "#n_target: 5\n",
      "#min_p:0.0001, max_p:10000,min_pc:1e-06, max_pc=1e+06\n",
      "seed:420\n",
      "c:4\n"
     ]
    }
   ],
   "source": [
    "#example 1, match to hill 5\n",
    "\n",
    "jid=420\n",
    "seed=jid\n",
    "beta=0.25\n",
    "\n",
    "n_target=5\n",
    "\n",
    "print(\"#n_target:\", n_target)\n",
    "print(\"#min_p:%g, max_p:%g,min_pc:%g, max_pc=%g\"%(min_p,max_p,min_pc,max_pc))\n",
    "print(\"seed:%d\"%seed)\n",
    "print(\"c:%d\"%c)\n",
    "\n",
    "\n",
    "\n",
    "dir_path=\"./localsearch\"\n",
    "dir_path2=dir_path\n",
    "name_save=\"nt%d_plim%d_plimc%d_c%d_beta%g\"%(n_target,plim,plimc,c,beta)\n",
    "outi=os.path.join(dir_path2,name_save+'_out_%d.out'%jid)\n",
    "outf=os.path.join(dir_path2,\"final_%s_%d.out\"%(name_save,jid))\n",
    "bestpars=utils_matchHill.find_parset(n_target,nmax=nmax,seed=seed,min_pos=0.5,max_pos=1.2,min_stp=0.5,max_stp=1.3,npars=npars,min_pc=min_pc, max_pc=max_pc,idx_c=idx_c,min_p=min_p,max_p=max_p,beta=beta,\n",
    "                                    psfunc=psfunc,GRFfunc=GRFfunc,fitto=\"curve\",printminerror=15,minerror=2,norm=True,fout_intermediate=outi,fout_final=outf)\n"
   ]
  },
  {
   "cell_type": "code",
   "execution_count": 4,
   "metadata": {},
   "outputs": [
    {
     "name": "stdout",
     "output_type": "stream",
     "text": [
      "[ 7.04731412e-19  1.40946282e-18  2.43945489e-18 -1.11022302e-15\n",
      "  4.88498131e-15  1.39266376e-12  2.48689958e-14 -1.27897692e-13\n",
      " -2.30926389e-14 -1.49213975e-13 -4.61852778e-14  1.06581410e-14\n",
      " -5.96744876e-16  2.42861287e-16  0.00000000e+00  4.66116035e-12\n",
      "  1.11022302e-16 -1.59594560e-16  1.46367293e-18  3.14418630e-18\n",
      "  1.95156391e-18  1.16551734e-18  2.98155597e-19  2.27682456e-18\n",
      "  0.00000000e+00  2.23616698e-19  0.00000000e+00]\n"
     ]
    }
   ],
   "source": [
    "#the corresponding parameter set\n",
    "parset5_1=np.array([0.00022761259400879425,0.00026975273648903073,0.0003008941477118364,0.7455788640026711,1.7533570643098628,150.14713701222107,7.546810840975103,15.487148342448608,5.391648411246393,24.318113436509165,6.357977959541313,8.435183738156207,0.08214068712428864,0.028054252496060895,0.00012740593558962824,773.7486127642941,0.8319779049880267,0.052536081659923926,0.00012916535672313997,0.0003112911060389804,0.00037791108364239144,0.00012565771066895087,0.00013919776915489028,0.0002777922399034988,1e-06,3.67333850470415e-05,886873.2857952606])\n",
    "print(parset5_1-bestpars)"
   ]
  },
  {
   "cell_type": "code",
   "execution_count": 5,
   "metadata": {},
   "outputs": [
    {
     "data": {
      "image/png": "[encoded data removed]",
      "text/plain": [
       "<Figure size 432x288 with 1 Axes>"
      ]
     },
     "metadata": {
      "needs_background": "light"
     },
     "output_type": "display_data"
    },
    {
     "data": {
      "text/plain": [
       "1.989648297509392"
      ]
     },
     "execution_count": 5,
     "metadata": {},
     "output_type": "execute_result"
    }
   ],
   "source": [
    "utils_matchHill.error_parset_hillfit(parset5_1,n_target=n_target,psfunc=psfunc,GRFfunc=GRFfunc,norm=True,plot=True)"
   ]
  },
  {
   "cell_type": "code",
   "execution_count": 7,
   "metadata": {},
   "outputs": [],
   "source": [
    "#example 2, match to Hill 6\n",
    "\n",
    "jid=373\n",
    "seed=jid\n",
    "beta=0.5\n",
    "\n",
    "n_target=6\n",
    "\n",
    "\n",
    "dir_path=\"./localsearch\"\n",
    "dir_path2=dir_path\n",
    "name_save=\"nt%d_plim%d_plimc%d_c%d_beta%g\"%(n_target,plim,plimc,c,beta)\n",
    "outi=os.path.join(dir_path2,name_save+'_out_%d.out'%jid)\n",
    "outf=os.path.join(dir_path2,\"final_%s_%d.out\"%(name_save,jid))\n",
    "bestpars=utils_matchHill.find_parset(n_target,nmax=nmax,seed=seed,min_pos=0.5,max_pos=1.2,min_stp=0.5,max_stp=1.3,npars=npars,min_pc=min_pc, max_pc=max_pc,idx_c=idx_c,min_p=min_p,max_p=max_p,beta=beta,\n",
    "                                    psfunc=psfunc,GRFfunc=GRFfunc,fitto=\"curve\",printminerror=15,minerror=2,norm=True,fout_intermediate=outi,fout_final=outf)\n"
   ]
  },
  {
   "cell_type": "code",
   "execution_count": 8,
   "metadata": {},
   "outputs": [
    {
     "data": {
      "text/plain": [
       "array([-5.20417043e-18,  3.49655201e-18, -6.77626358e-19, -7.22078647e-17,\n",
       "        7.45931095e-17,  0.00000000e+00,  0.00000000e+00,  0.00000000e+00,\n",
       "        0.00000000e+00,  0.00000000e+00, -5.69206141e-19, -7.01655260e-14,\n",
       "        9.50350909e-14, -2.48689958e-14, -9.76996262e-15,  6.66133815e-14,\n",
       "        1.06581410e-14, -6.75640099e-14,  4.62477279e-14, -4.61858741e-14,\n",
       "       -1.55425260e-14,  1.56610835e-14, -1.19966970e-16,  8.00355340e-10,\n",
       "       -8.00355338e-10,  0.00000000e+00])"
      ]
     },
     "execution_count": 8,
     "metadata": {},
     "output_type": "execute_result"
    }
   ],
   "source": [
    "#this is the parameter set obtained in the cluster search for this seed, it is the same\n",
    "parset6_2=np.array([0.00010462780935794624,0.0009998062764633262,0.0001855966737190295,0.00025668702704467804,0.00810950102745131,0.0001,0.0001,0.0001413090800281306,0.00010683763655335023,0.00010259164568557102,0.00010206699556591091,0.0001412350433945252,7.671091517201881,6.385013216403183,8.049221849810229,5.39831371383444,8.639655083117262,7.25918883980562,0.03694801666662621,8.27402661200493,0.00018973727087735393,3.2157254217823374,0.03706297995237256,0.00015066182934890513,78165.02491837055,1.0986272750964841e-06,1.1103746601037573e-06])\n",
    "np.diff(bestpars-parset6_2)"
   ]
  },
  {
   "cell_type": "code",
   "execution_count": 9,
   "metadata": {},
   "outputs": [
    {
     "data": {
      "image/png": "[encoded data removed]",
      "text/plain": [
       "<Figure size 432x288 with 1 Axes>"
      ]
     },
     "metadata": {
      "needs_background": "light"
     },
     "output_type": "display_data"
    },
    {
     "data": {
      "text/plain": [
       "1.9754027311107891"
      ]
     },
     "execution_count": 9,
     "metadata": {},
     "output_type": "execute_result"
    }
   ],
   "source": [
    "utils_matchHill.error_parset_hillfit(parset6_2,n_target=n_target,psfunc=psfunc,GRFfunc=GRFfunc,norm=True,plot=True)"
   ]
  },
  {
   "cell_type": "code",
   "execution_count": null,
   "metadata": {},
   "outputs": [],
   "source": [
    "#For all 6 parameter sets:\n",
    "#n=4:\n",
    "# seed 847,beta 0.5 ; seed 5059, beta 0.5 ;\n",
    "#n=5:\n",
    "#seed 420, beta 0.25 ; seed 4362, beta 0.25 ;\n",
    "#n=6\n",
    "#seed 4820, beta 0.75 ; seed 373, beta 0.5 ;\n"
   ]
  }
 ],
 "metadata": {
  "kernelspec": {
   "display_name": "Python 3",
   "language": "python",
   "name": "python3"
  },
  "language_info": {
   "codemirror_mode": {
    "name": "ipython",
    "version": 3
   },
   "file_extension": ".py",
   "mimetype": "text/x-python",
   "name": "python",
   "nbconvert_exporter": "python",
   "pygments_lexer": "ipython3",
   "version": "3.7.3"
  }
 },
 "nbformat": 4,
 "nbformat_minor": 2
}
